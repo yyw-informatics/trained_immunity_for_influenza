{
  "cells": [
    {
      "cell_type": "markdown",
      "metadata": {},
      "source": [
        "### Objective:\n",
        "1. Run the single cell gene set enrichment analysis for 3 Gene Ontology (GO) sets, Biological Process (BP), Molecular Function (MF), CC (Cellular Component)\n",
        "2. Determine statistically enrichment gene sets "
      ]
    },
    {
      "cell_type": "markdown",
      "metadata": {
        "id": "fHT4uMBLltir"
      },
      "source": [
        "### Load packages"
      ]
    },
    {
      "cell_type": "code",
      "execution_count": 1,
      "metadata": {
        "id": "F8hMZgPnVW6h",
        "vscode": {
          "languageId": "r"
        }
      },
      "outputs": [],
      "source": [
        ".libPaths(\"/your/path/lib/R/library\")\n",
        "setwd('/your/path/MIS10320_1006_2022/reference_2020A_analysis')"
      ]
    },
    {
      "cell_type": "code",
      "execution_count": 5,
      "metadata": {
        "id": "aOZTS8UI_dLn",
        "vscode": {
          "languageId": "r"
        }
      },
      "outputs": [],
      "source": [
        "suppressPackageStartupMessages(library(dplyr))\n",
        "suppressPackageStartupMessages(library(escape))\n",
        "suppressPackageStartupMessages(library(Seurat))\n",
        "suppressPackageStartupMessages(library(dittoSeq))\n",
        "suppressPackageStartupMessages(library(ggplot2))\n",
        "suppressPackageStartupMessages(library(BiocParallel))\n",
        "suppressPackageStartupMessages(library(GSVA))\n",
        "suppressPackageStartupMessages(library(limma))\n",
        "suppressPackageStartupMessages(library(msigdbr))\n",
        "suppressPackageStartupMessages(library(fmsb))\n",
        "suppressPackageStartupMessages(library(UpSetR))\n",
        "suppressPackageStartupMessages(library(ComplexHeatmap))\n",
        "suppressPackageStartupMessages(library(RColorBrewer))\n",
        "suppressPackageStartupMessages(library(clusterProfiler))\n",
        "suppressPackageStartupMessages(library(org.Mm.eg.db))\n",
        "suppressPackageStartupMessages(library(gridExtra))\n",
        "suppressPackageStartupMessages(library(EnhancedVolcano))"
      ]
    },
    {
      "cell_type": "markdown",
      "metadata": {
        "id": "fL0m7kfHcIxj"
      },
      "source": [
        "### Load original Seurat data"
      ]
    },
    {
      "cell_type": "code",
      "execution_count": 10,
      "metadata": {
        "id": "xgJYzsEIPabI",
        "vscode": {
          "languageId": "r"
        }
      },
      "outputs": [],
      "source": [
        "dat <- readRDS('Feb_2_integrated_doublet_finder_removed.rds')[[3]]"
      ]
    },
    {
      "cell_type": "code",
      "execution_count": 11,
      "metadata": {
        "vscode": {
          "languageId": "r"
        }
      },
      "outputs": [
        {
          "data": {
            "text/plain": [
              "$mILC1\n",
              "An object of class Seurat \n",
              "35124 features across 3617 samples within 3 assays \n",
              "Active assay: integrated (2000 features, 2000 variable features)\n",
              " 2 layers present: data, scale.data\n",
              " 2 other assays present: RNA, SCT\n",
              " 2 dimensional reductions calculated: pca, umap\n",
              "\n",
              "$mILC2\n",
              "An object of class Seurat \n",
              "35124 features across 2016 samples within 3 assays \n",
              "Active assay: integrated (2000 features, 2000 variable features)\n",
              " 2 layers present: data, scale.data\n",
              " 2 other assays present: RNA, SCT\n",
              " 2 dimensional reductions calculated: pca, umap\n",
              "\n",
              "$mILC3\n",
              "An object of class Seurat \n",
              "35124 features across 1404 samples within 3 assays \n",
              "Active assay: integrated (2000 features, 2000 variable features)\n",
              " 2 layers present: data, scale.data\n",
              " 2 other assays present: RNA, SCT\n",
              " 2 dimensional reductions calculated: pca, umap\n"
            ]
          },
          "metadata": {},
          "output_type": "display_data"
        }
      ],
      "source": [
        "ilcs <- SplitObject(dat, split.by = 'ILC_group')\n",
        "ilcs"
      ]
    },
    {
      "cell_type": "markdown",
      "metadata": {
        "id": "uWCbxlSXH32B"
      },
      "source": [
        "### Load reference data via escape package"
      ]
    },
    {
      "cell_type": "code",
      "execution_count": 8,
      "metadata": {
        "vscode": {
          "languageId": "r"
        }
      },
      "outputs": [],
      "source": [
        "escape_bp <- getGeneSets(\"Mus musculus\", library = \"C5\", subcategory = \"BP\") \n",
        "escape_mf <- getGeneSets(\"Mus musculus\", library = \"C5\", subcategory = \"MF\") \n",
        "escape_cc <- getGeneSets(\"Mus musculus\", library = \"C5\", subcategory = \"CC\") "
      ]
    },
    {
      "cell_type": "markdown",
      "metadata": {
        "id": "fSVNcLDkBDI1"
      },
      "source": [
        "### Load reference data via msigdbr package"
      ]
    },
    {
      "cell_type": "code",
      "execution_count": 9,
      "metadata": {
        "vscode": {
          "languageId": "r"
        }
      },
      "outputs": [],
      "source": [
        "msigdbr_bp <- msigdbr(species = \"mouse\", category = \"C5\", subcategory = \"BP\") # via the msigdbr package\n",
        "msigdbr_mf <- msigdbr(species = \"mouse\", category = \"C5\", subcategory = \"MF\") # via the msigdbr package\n",
        "msigdbr_cc <- msigdbr(species = \"mouse\", category = \"C5\", subcategory = \"CC\") # via the msigdbr package"
      ]
    },
    {
      "cell_type": "code",
      "execution_count": 19,
      "metadata": {
        "vscode": {
          "languageId": "r"
        }
      },
      "outputs": [
        {
          "data": {
            "text/html": [
              "7656"
            ],
            "text/latex": [
              "7656"
            ],
            "text/markdown": [
              "7656"
            ],
            "text/plain": [
              "[1] 7656"
            ]
          },
          "metadata": {},
          "output_type": "display_data"
        },
        {
          "data": {
            "text/html": [
              "1737"
            ],
            "text/latex": [
              "1737"
            ],
            "text/markdown": [
              "1737"
            ],
            "text/plain": [
              "[1] 1737"
            ]
          },
          "metadata": {},
          "output_type": "display_data"
        },
        {
          "data": {
            "text/html": [
              "1006"
            ],
            "text/latex": [
              "1006"
            ],
            "text/markdown": [
              "1006"
            ],
            "text/plain": [
              "[1] 1006"
            ]
          },
          "metadata": {},
          "output_type": "display_data"
        }
      ],
      "source": [
        "msigdbr_bp %>% distinct(gs_name) %>% nrow\n",
        "msigdbr_mf %>% distinct(gs_name) %>% nrow\n",
        "msigdbr_cc %>% distinct(gs_name) %>% nrow"
      ]
    },
    {
      "cell_type": "markdown",
      "metadata": {
        "id": "0loEoX7-2mEG"
      },
      "source": [
        "### Enrichment Tests "
      ]
    },
    {
      "cell_type": "markdown",
      "metadata": {},
      "source": [
        "BP - control vs treatment"
      ]
    },
    {
      "cell_type": "code",
      "execution_count": 17,
      "metadata": {
        "id": "frB0uNJeK64J",
        "vscode": {
          "languageId": "r"
        }
      },
      "outputs": [],
      "source": [
        "es_bp <- enrichIt(obj = dat, gene.sets = escape_bp, cores = 8, groups = 1000, min.size = 15)\n",
        "save(es_bp, file = \"enrichmentResults_GO_BP.Rdata\")"
      ]
    },
    {
      "cell_type": "markdown",
      "metadata": {},
      "source": [
        "BP - ILC1: control vs treatment"
      ]
    },
    {
      "cell_type": "code",
      "execution_count": null,
      "metadata": {
        "vscode": {
          "languageId": "r"
        }
      },
      "outputs": [],
      "source": [
        "es_bp_ilc1 <- enrichIt(obj = ilcs$mILC1, gene.sets = escape_bp, cores = 8, groups = 1000, min.size = 15)\n",
        "save(es_bp_ilc1, file = \"enrichmentResults_GO_BP_ILC1.Rdata\")"
      ]
    },
    {
      "cell_type": "markdown",
      "metadata": {},
      "source": [
        "BP - ILC2: control vs treatment"
      ]
    },
    {
      "cell_type": "code",
      "execution_count": null,
      "metadata": {
        "vscode": {
          "languageId": "r"
        }
      },
      "outputs": [],
      "source": [
        "es_bp_ilc2 <- enrichIt(obj = ilcs$mILC2, gene.sets = escape_bp, cores = 8, groups = 1000, min.size = 15)\n",
        "save(es_bp_ilc2, file = \"enrichmentResults_GO_BP_ILC2.Rdata\")"
      ]
    },
    {
      "cell_type": "markdown",
      "metadata": {},
      "source": [
        "BP - ILC3: control vs treatment"
      ]
    },
    {
      "cell_type": "code",
      "execution_count": null,
      "metadata": {
        "vscode": {
          "languageId": "r"
        }
      },
      "outputs": [],
      "source": [
        "es_bp_ilc3 <- enrichIt(obj = ilcs$mILC3, gene.sets = escape_bp, cores = 8, groups = 1000, min.size = 15)\n",
        "save(es_bp_ilc3, file = \"enrichmentResults_GO_BP_ILC3.Rdata\")"
      ]
    },
    {
      "cell_type": "markdown",
      "metadata": {},
      "source": [
        "MF - control vs treatment"
      ]
    },
    {
      "cell_type": "code",
      "execution_count": null,
      "metadata": {
        "vscode": {
          "languageId": "r"
        }
      },
      "outputs": [],
      "source": [
        "es_mf <- enrichIt(obj = dat, gene.sets = escape_mf, cores = 8, groups = 1000, min.size = 15)\n",
        "save(es_mf, file = \"enrichmentResults_GO_MF.Rdata\")"
      ]
    },
    {
      "cell_type": "markdown",
      "metadata": {},
      "source": [
        "MF - ILC1: control vs treatment"
      ]
    },
    {
      "cell_type": "code",
      "execution_count": null,
      "metadata": {
        "vscode": {
          "languageId": "r"
        }
      },
      "outputs": [],
      "source": [
        "es_mf_ilc1 <- enrichIt(obj = ilcs$mILC1, gene.sets = escape_mf, cores = 8, groups = 1000, min.size = 15)\n",
        "save(es_mf_ilc1, file = \"enrichmentResults_GO_MF_ILC1.Rdata\")"
      ]
    },
    {
      "cell_type": "markdown",
      "metadata": {},
      "source": [
        "MF - ILC2: control vs treatment"
      ]
    },
    {
      "cell_type": "code",
      "execution_count": null,
      "metadata": {
        "vscode": {
          "languageId": "r"
        }
      },
      "outputs": [],
      "source": [
        "es_mf_ilc2 <- enrichIt(obj = ilcs$mILC2, gene.sets = escape_mf, cores = 8, groups = 1000, min.size = 15)\n",
        "save(es_mf_ilc2, file = \"enrichmentResults_GO_MF_ILC2.Rdata\")"
      ]
    },
    {
      "cell_type": "markdown",
      "metadata": {},
      "source": [
        "MF - ILC3: control vs treatment"
      ]
    },
    {
      "cell_type": "code",
      "execution_count": null,
      "metadata": {
        "vscode": {
          "languageId": "r"
        }
      },
      "outputs": [],
      "source": [
        "es_mf_ilc3 <- enrichIt(obj = ilcs$mILC3, gene.sets = escape_mf, cores = 8, groups = 1000, min.size = 15)\n",
        "save(es_mf_ilc3, file = \"enrichmentResults_GO_MF_ILC3.Rdata\")"
      ]
    },
    {
      "cell_type": "markdown",
      "metadata": {},
      "source": [
        "CC - control vs treatment"
      ]
    },
    {
      "cell_type": "code",
      "execution_count": 12,
      "metadata": {
        "vscode": {
          "languageId": "r"
        }
      },
      "outputs": [],
      "source": [
        "es_cc <- enrichIt(obj = dat, gene.sets = escape_cc, cores = 8, groups = 1000, min.size = 15)\n",
        "save(es_cc, file = \"enrichmentResults_GO_CC.Rdata\")"
      ]
    },
    {
      "cell_type": "markdown",
      "metadata": {},
      "source": [
        "CC - ILC1: control vs treatment"
      ]
    },
    {
      "cell_type": "code",
      "execution_count": null,
      "metadata": {
        "vscode": {
          "languageId": "r"
        }
      },
      "outputs": [],
      "source": [
        "es_cc_ilc1 <- enrichIt(obj = ilcs$mILC1, gene.sets = escape_cc, cores = 8, groups = 1000, min.size = 15)\n",
        "save(es_cc_ilc1, file = \"enrichmentResults_GO_CC_ILC1.Rdata\")"
      ]
    },
    {
      "cell_type": "markdown",
      "metadata": {},
      "source": [
        "CC - ILC2: control vs treatment"
      ]
    },
    {
      "cell_type": "code",
      "execution_count": null,
      "metadata": {
        "vscode": {
          "languageId": "r"
        }
      },
      "outputs": [],
      "source": [
        "es_cc_ilc2 <- enrichIt(obj = ilcs$mILC2, gene.sets = escape_cc, cores = 8, groups = 1000, min.size = 15)\n",
        "save(es_cc_ilc2, file = \"enrichmentResults_GO_CC_ILC2.Rdata\")"
      ]
    },
    {
      "cell_type": "markdown",
      "metadata": {},
      "source": [
        "CC - ILC3: control vs treatment"
      ]
    },
    {
      "cell_type": "code",
      "execution_count": null,
      "metadata": {
        "vscode": {
          "languageId": "r"
        }
      },
      "outputs": [],
      "source": [
        "es_cc_ilc3 <- enrichIt(obj = ilcs$mILC3, gene.sets = escape_cc, cores = 8, groups = 1000, min.size = 15)\n",
        "save(es_cc_ilc3, file = \"enrichmentResults_GO_CC_ILC3.Rdata\")"
      ]
    },
    {
      "cell_type": "markdown",
      "metadata": {},
      "source": [
        "### Determine Significance of Enrichment\n",
        "Wilcoxon Rank Sum Test"
      ]
    },
    {
      "cell_type": "markdown",
      "metadata": {},
      "source": [
        "BP "
      ]
    },
    {
      "cell_type": "code",
      "execution_count": 18,
      "metadata": {
        "id": "pwdnIYM5vQJ_",
        "vscode": {
          "languageId": "r"
        }
      },
      "outputs": [],
      "source": [
        "load(\"enrichmentResults_GO_BP.Rdata\")      # es_bp\n",
        "load(\"enrichmentResults_GO_BP_ILC1.Rdata\") # es_bp_ilc1\n",
        "load(\"enrichmentResults_GO_BP_ILC2.Rdata\") # es_bp_ilc2\n",
        "load(\"enrichmentResults_GO_BP_ILC3.Rdata\") # es_bp_ilc3"
      ]
    },
    {
      "cell_type": "code",
      "execution_count": null,
      "metadata": {
        "vscode": {
          "languageId": "r"
        }
      },
      "outputs": [],
      "source": [
        "es_bp_copy <- es_bp %>% mutate(condition = dat@meta.data$condition)\n",
        "out_bp <- getSignificance(es_bp_copy, group = 'condition', fit = \"Wilcoxon\") \n",
        "save(out_bp, file = \"enrichmentResults_GO_BP_significance_test.Rdata\")"
      ]
    },
    {
      "cell_type": "code",
      "execution_count": null,
      "metadata": {
        "vscode": {
          "languageId": "r"
        }
      },
      "outputs": [],
      "source": [
        "es_bp_ilc1_copy <- es_bp_ilc1 %>% mutate(condition = ilcs$mILC1@meta.data$condition)\n",
        "out_bp_ilc1 <- getSignificance(es_bp_ilc1_copy, group = 'condition', fit = \"Wilcoxon\") \n",
        "save(out_bp_ilc1, file = \"enrichmentResults_GO_BP_significance_test_ILC1.Rdata\")"
      ]
    },
    {
      "cell_type": "code",
      "execution_count": null,
      "metadata": {
        "vscode": {
          "languageId": "r"
        }
      },
      "outputs": [],
      "source": [
        "es_bp_ilc2_copy <- es_bp_ilc2 %>% mutate(condition = ilcs$mILC2@meta.data$condition)\n",
        "out_bp_ilc2 <- getSignificance(es_bp_ilc2_copy, group = 'condition', fit = \"Wilcoxon\") \n",
        "save(out_bp_ilc2, file = \"enrichmentResults_GO_BP_significance_test_ILC2.Rdata\")"
      ]
    },
    {
      "cell_type": "code",
      "execution_count": null,
      "metadata": {
        "vscode": {
          "languageId": "r"
        }
      },
      "outputs": [],
      "source": [
        "es_bp_ilc3_copy <- es_bp_ilc3 %>% mutate(condition = ilcs$mILC3@meta.data$condition)\n",
        "out_bp_ilc3 <- getSignificance(es_bp_ilc3_copy, group = 'condition', fit = \"Wilcoxon\") \n",
        "save(out_bp_ilc3, file = \"enrichmentResults_GO_BP_significance_test_ILC3.Rdata\")"
      ]
    },
    {
      "cell_type": "markdown",
      "metadata": {},
      "source": [
        "MF"
      ]
    },
    {
      "cell_type": "code",
      "execution_count": null,
      "metadata": {
        "vscode": {
          "languageId": "r"
        }
      },
      "outputs": [],
      "source": [
        "load(\"enrichmentResults_GO_MF.Rdata\")      # es_mf\n",
        "load(\"enrichmentResults_GO_MF_ILC1.Rdata\") # es_mf_ilc1\n",
        "load(\"enrichmentResults_GO_MF_ILC2.Rdata\") # es_mf_ilc2\n",
        "load(\"enrichmentResults_GO_MF_ILC3.Rdata\") # es_mf_ilc3"
      ]
    },
    {
      "cell_type": "code",
      "execution_count": null,
      "metadata": {
        "vscode": {
          "languageId": "r"
        }
      },
      "outputs": [],
      "source": [
        "es_mf_copy <- es_mf %>% mutate(condition = dat@meta.data$condition)\n",
        "out_mf <- getSignificance(es_mf_copy, group = 'condition', fit = \"Wilcoxon\") \n",
        "save(out_mf, file = \"enrichmentResults_GO_MF_significance_test.Rdata\")"
      ]
    },
    {
      "cell_type": "markdown",
      "metadata": {
        "id": "NBeBZpFJMuyM"
      },
      "source": [
        "es_mf_ilc1_copy <- es_mf_ilc1 %>% mutate(condition = ilcs$mILC1@meta.data$condition)\n",
        "out_mf_ilc1 <- getSignificance(es_mf_ilc1_copy, group = 'condition', fit = \"Wilcoxon\") \n",
        "save(out_mf_ilc1, file = \"enrichmentResults_GO_MF_significance_test_ILC1.Rdata\")"
      ]
    },
    {
      "cell_type": "code",
      "execution_count": null,
      "metadata": {
        "vscode": {
          "languageId": "r"
        }
      },
      "outputs": [],
      "source": [
        "es_mf_ilc2_copy <- es_mf_ilc2 %>% mutate(condition = ilcs$mILC2@meta.data$condition)\n",
        "out_mf_ilc2 <- getSignificance(es_mf_ilc2_copy, group = 'condition', fit = \"Wilcoxon\") \n",
        "save(out_mf_ilc2, file = \"enrichmentResults_GO_MF_significance_test_ILC2.Rdata\")"
      ]
    },
    {
      "cell_type": "code",
      "execution_count": null,
      "metadata": {
        "vscode": {
          "languageId": "r"
        }
      },
      "outputs": [],
      "source": [
        "es_mf_ilc3_copy <- es_mf_ilc3 %>% mutate(condition = ilcs$mILC3@meta.data$condition)\n",
        "out_mf_ilc3 <- getSignificance(es_mf_ilc3_copy, group = 'condition', fit = \"Wilcoxon\") \n",
        "save(out_mf_ilc3, file = \"enrichmentResults_GO_MF_significance_test_ILC3.Rdata\")"
      ]
    },
    {
      "cell_type": "markdown",
      "metadata": {},
      "source": [
        "CC"
      ]
    },
    {
      "cell_type": "code",
      "execution_count": null,
      "metadata": {
        "vscode": {
          "languageId": "r"
        }
      },
      "outputs": [],
      "source": [
        "load(\"enrichmentResults_GO_CC.Rdata\")      # es_mf\n",
        "load(\"enrichmentResults_GO_CC_ILC1.Rdata\") # es_mf_ilc1\n",
        "load(\"enrichmentResults_GO_CC_ILC2.Rdata\") # es_mf_ilc2\n",
        "load(\"enrichmentResults_GO_CC_ILC3.Rdata\") # es_mf_ilc3"
      ]
    },
    {
      "cell_type": "code",
      "execution_count": null,
      "metadata": {
        "vscode": {
          "languageId": "r"
        }
      },
      "outputs": [],
      "source": [
        "es_cc_copy <- es_cc %>% mutate(condition = dat@meta.data$condition)\n",
        "out_cc <- getSignificance(es_cc_copy, group = 'condition', fit = \"Wilcoxon\") \n",
        "save(out_cc, file = \"enrichmentResults_GO_CC_significance_test.Rdata\")"
      ]
    },
    {
      "cell_type": "code",
      "execution_count": null,
      "metadata": {
        "vscode": {
          "languageId": "r"
        }
      },
      "outputs": [],
      "source": [
        "es_cc_ilc1_copy <- es_cc_ilc1 %>% mutate(condition = ilcs$mILC1@meta.data$condition)\n",
        "out_cc_ilc1 <- getSignificance(es_cc_ilc1_copy, group = 'condition', fit = \"Wilcoxon\") \n",
        "save(out_cc_ilc1, file = \"enrichmentResults_GO_CC_significance_test_ILC1.Rdata\")"
      ]
    },
    {
      "cell_type": "code",
      "execution_count": null,
      "metadata": {
        "vscode": {
          "languageId": "r"
        }
      },
      "outputs": [],
      "source": [
        "es_cc_ilc2_copy <- es_cc_ilc2 %>% mutate(condition = ilcs$mILC2@meta.data$condition)\n",
        "out_cc_ilc2 <- getSignificance(es_cc_ilc2_copy, group = 'condition', fit = \"Wilcoxon\") \n",
        "save(out_cc_ilc2, file = \"enrichmentResults_GO_CC_significance_test_ILC2.Rdata\")"
      ]
    },
    {
      "cell_type": "code",
      "execution_count": null,
      "metadata": {
        "vscode": {
          "languageId": "r"
        }
      },
      "outputs": [],
      "source": [
        "es_cc_ilc3_copy <- es_cc_ilc3 %>% mutate(condition = ilcs$mILC3@meta.data$condition)\n",
        "out_cc_ilc3 <- getSignificance(es_cc_ilc3_copy, group = 'condition', fit = \"Wilcoxon\") \n",
        "save(out_cc_ilc3, file = \"enrichmentResults_GO_CC_significance_test_ILC3.Rdata\")"
      ]
    }
  ],
  "metadata": {
    "celltoolbar": "Raw Cell Format",
    "colab": {
      "provenance": []
    },
    "kernelspec": {
      "display_name": "R",
      "language": "R",
      "name": "ir"
    },
    "language_info": {
      "codemirror_mode": "r",
      "file_extension": ".r",
      "mimetype": "text/x-r-source",
      "name": "R",
      "pygments_lexer": "r",
      "version": "4.3.2"
    }
  },
  "nbformat": 4,
  "nbformat_minor": 0
}
